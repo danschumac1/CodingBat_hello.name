{
 "cells": [
  {
   "cell_type": "markdown",
   "id": "a784ea57",
   "metadata": {},
   "source": [
    "# String-1 > hello_name"
   ]
  },
  {
   "cell_type": "markdown",
   "id": "a804e36b",
   "metadata": {},
   "source": [
    "Given a string name, e.g. \"Bob\", return a greeting of the form \"Hello Bob!\".\n",
    "\n",
    "hello_name('Bob') → 'Hello Bob!'\n",
    "hello_name('Alice') → 'Hello Alice!'\n",
    "hello_name('X') → 'Hello X!'"
   ]
  },
  {
   "cell_type": "code",
   "execution_count": 1,
   "id": "a596f7d6",
   "metadata": {},
   "outputs": [],
   "source": [
    "def hello_name(name):\n",
    "  return 'Hello ' + name + '!'"
   ]
  }
 ],
 "metadata": {
  "kernelspec": {
   "display_name": "Python 3 (ipykernel)",
   "language": "python",
   "name": "python3"
  },
  "language_info": {
   "codemirror_mode": {
    "name": "ipython",
    "version": 3
   },
   "file_extension": ".py",
   "mimetype": "text/x-python",
   "name": "python",
   "nbconvert_exporter": "python",
   "pygments_lexer": "ipython3",
   "version": "3.9.12"
  }
 },
 "nbformat": 4,
 "nbformat_minor": 5
}
